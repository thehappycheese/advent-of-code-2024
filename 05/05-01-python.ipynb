{
 "cells": [
  {
   "cell_type": "code",
   "execution_count": null,
   "metadata": {},
   "outputs": [],
   "source": [
    "from pathlib import Path\n",
    "from functools import cmp_to_key\n",
    "import numpy as np"
   ]
  },
  {
   "cell_type": "code",
   "execution_count": null,
   "metadata": {},
   "outputs": [],
   "source": [
    "input = Path(\"input.txt\").read_text()\n",
    "# input = \"\"\"47|53\n",
    "# 97|13\n",
    "# 97|61\n",
    "# 97|47\n",
    "# 75|29\n",
    "# 61|13\n",
    "# 75|53\n",
    "# 29|13\n",
    "# 97|29\n",
    "# 53|29\n",
    "# 61|53\n",
    "# 97|53\n",
    "# 61|29\n",
    "# 47|13\n",
    "# 75|47\n",
    "# 97|75\n",
    "# 47|61\n",
    "# 75|61\n",
    "# 47|29\n",
    "# 75|13\n",
    "# 53|13\n",
    "\n",
    "# 75,47,61,53,29\n",
    "# 97,61,53,29,13\n",
    "# 75,29,13\n",
    "# 75,97,47,61,53\n",
    "# 61,13,29\n",
    "# 97,13,75,29,47\n",
    "# \"\"\"\n",
    "rules, updates = input.split(\"\\n\\n\")\n",
    "rules = np.array([[int(i) for i in item.split(\"|\")] for item in rules.splitlines()])\n",
    "updates = [np.array([int(item) for item in update.split(\",\")]) for update in updates.splitlines()]"
   ]
  },
  {
   "cell_type": "code",
   "execution_count": null,
   "metadata": {},
   "outputs": [],
   "source": [
    "def incorrect_updates(update):\n",
    "    rule_values = np.vectorize(dict(map(reversed, enumerate(update))).get,otypes=[float])(rules)\n",
    "    relevant_rules =  rule_values[~np.any(np.isnan(rule_values), axis=1)]\n",
    "    return not (relevant_rules[:,0]<relevant_rules[:,1]).all()"
   ]
  },
  {
   "cell_type": "code",
   "execution_count": null,
   "metadata": {},
   "outputs": [],
   "source": [
    "problem_updates = [updates[index] for index in np.argwhere(np.array(list(map(incorrect_updates, updates)))).flatten()]"
   ]
  },
  {
   "cell_type": "code",
   "execution_count": null,
   "metadata": {},
   "outputs": [],
   "source": [
    "def decider(rules):\n",
    "    def _inner_decider(a,b):\n",
    "        return -1 if any((rule == [a,b]).all() for rule in rules) else 1 if any((rule==[b,a]).all() for rule in rules) else 0\n",
    "    return _inner_decider"
   ]
  },
  {
   "cell_type": "code",
   "execution_count": null,
   "metadata": {},
   "outputs": [],
   "source": [
    "mid_updates = []\n",
    "for pu in problem_updates:\n",
    "    relevant_rules = rules[(rules[:,:,np.newaxis]==pu).any(axis=-1).all(axis=-1)]\n",
    "    update_sorted = sorted(pu, key=cmp_to_key(decider(relevant_rules)))\n",
    "    mid_updates.append(update_sorted[len(update_sorted)//2])\n",
    "sum(mid_updates)"
   ]
  }
 ],
 "metadata": {
  "kernelspec": {
   "display_name": "Python 3",
   "language": "python",
   "name": "python3"
  },
  "language_info": {
   "codemirror_mode": {
    "name": "ipython",
    "version": 3
   },
   "file_extension": ".py",
   "mimetype": "text/x-python",
   "name": "python",
   "nbconvert_exporter": "python",
   "pygments_lexer": "ipython3",
   "version": "3.12.2"
  }
 },
 "nbformat": 4,
 "nbformat_minor": 2
}
