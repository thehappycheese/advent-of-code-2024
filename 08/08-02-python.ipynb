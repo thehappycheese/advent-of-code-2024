{
 "cells": [
  {
   "cell_type": "code",
   "execution_count": null,
   "metadata": {},
   "outputs": [],
   "source": [
    "from itertools import combinations\n",
    "from pathlib import Path\n",
    "import numpy as np"
   ]
  },
  {
   "cell_type": "code",
   "execution_count": null,
   "metadata": {},
   "outputs": [],
   "source": [
    "# input = \"\"\"............\n",
    "# ........0...\n",
    "# .....0......\n",
    "# .......0....\n",
    "# ....0.......\n",
    "# ......A.....\n",
    "# ............\n",
    "# ............\n",
    "# ........A...\n",
    "# .........A..\n",
    "# ............\n",
    "# ............\n",
    "# \"\"\"\n",
    "input = Path(\"input.txt\").read_text()\n"
   ]
  },
  {
   "cell_type": "code",
   "execution_count": null,
   "metadata": {},
   "outputs": [],
   "source": [
    "grid = np.array(list(map(list,input.strip().split(\"\\n\"))))"
   ]
  },
  {
   "cell_type": "code",
   "execution_count": null,
   "metadata": {},
   "outputs": [],
   "source": [
    "tower_types = np.array(list(set(np.unique(grid)) - {\".\"}))"
   ]
  },
  {
   "cell_type": "code",
   "execution_count": null,
   "metadata": {},
   "outputs": [],
   "source": [
    "towers = np.argwhere(grid[:,:,np.newaxis]==tower_types)"
   ]
  },
  {
   "cell_type": "code",
   "execution_count": null,
   "metadata": {},
   "outputs": [],
   "source": [
    "tower_combos = (\n",
    "    ((a,b),(c,d))\n",
    "    for (a,b,tt1), (c,d,tt2)\n",
    "    in combinations(towers, 2)\n",
    "    if tt1==tt2 and (a,b)!=(c,d)\n",
    ")"
   ]
  },
  {
   "cell_type": "code",
   "execution_count": null,
   "metadata": {},
   "outputs": [],
   "source": [
    "antinodes={}\n",
    "def bounded(x):\n",
    "    return x[0]>=0 and x[1]>=0 and x[0]<len(grid) and x[1]<len(grid[0])\n",
    "for (a,b), (c,d) in tower_combos:\n",
    "    ab_cd = (c-a, d-b)\n",
    "    cursor = (a,b)   \n",
    "    while bounded(cursor):\n",
    "        antinodes[cursor]=True\n",
    "        cursor = (cursor[0]-ab_cd[0],cursor[1]-ab_cd[1])\n",
    "    cursor = (c,d)\n",
    "    while bounded(cursor):\n",
    "        antinodes[cursor]=True\n",
    "        cursor = (cursor[0]+ab_cd[0],cursor[1]+ab_cd[1])\n",
    "len(antinodes)"
   ]
  }
 ],
 "metadata": {
  "kernelspec": {
   "display_name": "Python 3",
   "language": "python",
   "name": "python3"
  },
  "language_info": {
   "codemirror_mode": {
    "name": "ipython",
    "version": 3
   },
   "file_extension": ".py",
   "mimetype": "text/x-python",
   "name": "python",
   "nbconvert_exporter": "python",
   "pygments_lexer": "ipython3",
   "version": "3.12.2"
  }
 },
 "nbformat": 4,
 "nbformat_minor": 2
}
