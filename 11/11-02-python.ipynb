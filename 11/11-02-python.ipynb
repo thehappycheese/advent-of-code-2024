{
 "cells": [
  {
   "cell_type": "code",
   "execution_count": 1,
   "metadata": {},
   "outputs": [],
   "source": [
    "from pathlib import Path"
   ]
  },
  {
   "cell_type": "code",
   "execution_count": 3,
   "metadata": {},
   "outputs": [],
   "source": [
    "def count_digits(stone:int):\n",
    "    count = 0\n",
    "    if stone == 0:\n",
    "        return 1\n",
    "    while (stone > 0):\n",
    "        stone //= 10\n",
    "        count += 1\n",
    "    return count\n",
    "\n",
    "def split_digits(stone:int, n:int):\n",
    "    len = n//2\n",
    "    h = 10**len\n",
    "    upper = stone // h\n",
    "    lower = stone - upper*h\n",
    "    return [upper, lower]\n",
    "\n",
    "def replace(stone:int):\n",
    "    match stone:\n",
    "        case 0:\n",
    "            return [1]\n",
    "        case x if (cd:=count_digits(x))%2==0:\n",
    "            return split_digits(stone, cd)\n",
    "        case y:\n",
    "            return [y*2024]"
   ]
  },
  {
   "cell_type": "code",
   "execution_count": 14,
   "metadata": {},
   "outputs": [],
   "source": [
    "input = Path(\"input.txt\").read_text()\n",
    "stones = list(map(int, input.strip().split(\" \")))"
   ]
  },
  {
   "cell_type": "code",
   "execution_count": 13,
   "metadata": {},
   "outputs": [
    {
     "data": {
      "text/plain": [
       "211306"
      ]
     },
     "execution_count": 13,
     "metadata": {},
     "output_type": "execute_result"
    }
   ],
   "source": [
    "stone_groups = {stone:1 for stone in stones}\n",
    "for blink in range(25):\n",
    "    new_stone_groups = {}\n",
    "    for stone in list(stone_groups.keys()):\n",
    "        multiplier = stone_groups[stone]\n",
    "        for new_stone in replace(stone):\n",
    "            if new_stone not in new_stone_groups:\n",
    "                new_stone_groups[new_stone]=multiplier\n",
    "            else:\n",
    "                new_stone_groups[new_stone]+=multiplier\n",
    "    stone_groups = new_stone_groups\n",
    "sum(stone_groups.values())"
   ]
  }
 ],
 "metadata": {
  "kernelspec": {
   "display_name": "Python 3",
   "language": "python",
   "name": "python3"
  },
  "language_info": {
   "codemirror_mode": {
    "name": "ipython",
    "version": 3
   },
   "file_extension": ".py",
   "mimetype": "text/x-python",
   "name": "python",
   "nbconvert_exporter": "python",
   "pygments_lexer": "ipython3",
   "version": "3.12.2"
  }
 },
 "nbformat": 4,
 "nbformat_minor": 2
}
