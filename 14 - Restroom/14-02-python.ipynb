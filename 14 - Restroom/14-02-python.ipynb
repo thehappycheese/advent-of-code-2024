{
 "cells": [
  {
   "cell_type": "code",
   "execution_count": 1,
   "metadata": {},
   "outputs": [],
   "source": [
    "#%matplotlib ipympl\n",
    "from typing import Literal\n",
    "from pathlib import Path\n",
    "from matplotlib import pyplot as plt\n",
    "#from mpl_interactions import ipyplot as iplt\n",
    "import numpy as np\n",
    "#from ipywidgets import IntSlider\n",
    "from tqdm import tqdm\n",
    "import pandas as pd"
   ]
  },
  {
   "cell_type": "code",
   "execution_count": 2,
   "metadata": {},
   "outputs": [],
   "source": [
    "input = \"\"\"p=0,4 v=3,-3\n",
    "p=6,3 v=-1,-3\n",
    "p=10,3 v=-1,2\n",
    "p=2,0 v=2,-1\n",
    "p=0,0 v=1,3\n",
    "p=3,0 v=-2,-2\n",
    "p=7,6 v=-1,-3\n",
    "p=3,0 v=-1,-2\n",
    "p=9,3 v=2,3\n",
    "p=7,3 v=-1,2\n",
    "p=2,4 v=2,-3\n",
    "p=9,5 v=-3,-3\n",
    "\"\"\"\n",
    "foyer_size = (11, 7)"
   ]
  },
  {
   "cell_type": "code",
   "execution_count": 70,
   "metadata": {},
   "outputs": [],
   "source": [
    "input = Path(\"input.txt\").read_text()\n",
    "foyer_size = (101, 103)\n",
    "# has period of 10578"
   ]
  },
  {
   "cell_type": "code",
   "execution_count": 4,
   "metadata": {},
   "outputs": [],
   "source": [
    "V2 = tuple[int,int]\n",
    "def add(a:V2, b:V2)->V2:\n",
    "    return (a[0]+b[0], a[1]+b[1])\n",
    "def scale(a:V2, s:int)->V2:\n",
    "    return (a[0]*s, a[1]*s)\n",
    "def mod(a:V2, m:V2)->V2:\n",
    "    return (a[0]%m[0], a[1]%m[1])\n",
    "def quad(a:V2, foyer:V2)->Literal[0,1,2,3,4]:\n",
    "    hx = foyer[0]//2\n",
    "    hy = foyer[1]//2\n",
    "    if a[0]==hx or a[1]==hy:\n",
    "        return 0\n",
    "    match (a[0]<hx, a[1]<hy):\n",
    "        case True, True:\n",
    "            return 1\n",
    "        case False, True:\n",
    "            return 2\n",
    "        case True, False:\n",
    "            return 3\n",
    "        case False, False:\n",
    "            return 4\n",
    "def move(bot:tuple[V2, V2], steps:int, foyer_size:V2):\n",
    "    return mod(add(bot[0], scale(bot[1], steps)), foyer_size)"
   ]
  },
  {
   "cell_type": "code",
   "execution_count": null,
   "metadata": {},
   "outputs": [],
   "source": [
    "bots:list[tuple[V2, V2]] = [\n",
    "    tuple(\n",
    "        tuple(int(a) for a in ass[2:].split(\",\"))\n",
    "        for ass in \n",
    "        item.split(\" \")\n",
    "    )\n",
    "    for item in input.strip().splitlines()\n",
    "]"
   ]
  },
  {
   "cell_type": "code",
   "execution_count": null,
   "metadata": {},
   "outputs": [],
   "source": [
    "def generate(steps:int):\n",
    "    fbots = [\n",
    "        move(bot, steps, foyer_size)\n",
    "        for bot\n",
    "        in bots\n",
    "    ]\n",
    "    block = []\n",
    "    for y in range(foyer_size[1]):\n",
    "        row = []\n",
    "        for x in range(foyer_size[0]):\n",
    "            count = 0\n",
    "            for fbot in fbots:\n",
    "                if fbot[0]==x and fbot[1]==y:\n",
    "                    count+=1\n",
    "            row.append(count)\n",
    "        block.append(row)\n",
    "    return np.array(block)"
   ]
  },
  {
   "cell_type": "code",
   "execution_count": null,
   "metadata": {},
   "outputs": [],
   "source": [
    "def plot(state):\n",
    "    plt.imshow(state)\n",
    "    plt.show()"
   ]
  },
  {
   "cell_type": "code",
   "execution_count": null,
   "metadata": {},
   "outputs": [],
   "source": [
    "# My first approach would have found it just fine; It was just too slow\n",
    "for steps in tqdm(range(6300,6400)):\n",
    "    state = generate(steps)\n",
    "    view = np.lib.stride_tricks.sliding_window_view(state>0, (3,3))\n",
    "    has33 = view.all(axis=-1).all(axis=-1).any()\n",
    "    if has33:\n",
    "        print(steps)\n",
    "        plot(state)"
   ]
  },
  {
   "cell_type": "code",
   "execution_count": null,
   "metadata": {},
   "outputs": [],
   "source": [
    "# why did this work?\n",
    "res_acc = []\n",
    "for steps in range(0, 10578):\n",
    "    fbots = np.array([\n",
    "        move(bot, steps, foyer_size)\n",
    "        for bot\n",
    "        in bots\n",
    "    ])\n",
    "    res_acc.append(np.abs(np.sort(fbots[:,0])-np.sort(fbots[:,1])).sum()) # day 1 solution as metric\n",
    "scores = pd.Series(res_acc)\n",
    "# Used this to figure out the period:\n",
    "# scores.iloc[0:10578].loc[res>8000].plot()\n",
    "\n",
    "res_acc = np.zeros(foyer_size)\n",
    "for steps, score in tqdm(zip(range(0, 10578), scores.values)):\n",
    "    if score>5000:\n",
    "        for (x,y) in [\n",
    "            move(bot, steps, foyer_size)\n",
    "            for bot\n",
    "            in bots\n",
    "        ]:\n",
    "            res_acc[x][y] += 1\n",
    "plt.imshow(res_acc)"
   ]
  },
  {
   "cell_type": "code",
   "execution_count": null,
   "metadata": {},
   "outputs": [],
   "source": [
    "# here we search the suspect area for high robot counts\n",
    "res_acc = []\n",
    "for steps in range(0, 10578):\n",
    "    fbots = np.array([\n",
    "        move(bot, steps, foyer_size)\n",
    "        for bot\n",
    "        in bots\n",
    "    ])\n",
    "    x = fbots[:,0]\n",
    "    y = fbots[:,1]\n",
    "    res_acc.append(np.sum((x>60) & (x<80) & (y>60) & (y<80)))\n",
    "scores_box = pd.Series(res_acc)\n",
    "print(scores_box.argmax())\n",
    "scores_box.plot()"
   ]
  },
  {
   "cell_type": "code",
   "execution_count": null,
   "metadata": {},
   "outputs": [],
   "source": [
    "plt.imshow(generate(6355))\n",
    "plt.show()"
   ]
  }
 ],
 "metadata": {
  "kernelspec": {
   "display_name": "Python 3",
   "language": "python",
   "name": "python3"
  },
  "language_info": {
   "codemirror_mode": {
    "name": "ipython",
    "version": 3
   },
   "file_extension": ".py",
   "mimetype": "text/x-python",
   "name": "python",
   "nbconvert_exporter": "python",
   "pygments_lexer": "ipython3",
   "version": "3.12.2"
  }
 },
 "nbformat": 4,
 "nbformat_minor": 2
}
