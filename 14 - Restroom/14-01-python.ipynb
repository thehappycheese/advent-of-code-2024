{
 "cells": [
  {
   "cell_type": "code",
   "execution_count": 1,
   "metadata": {},
   "outputs": [],
   "source": [
    "from typing import Literal\n",
    "from pathlib import Path\n",
    "from collections import Counter\n",
    "from functools import reduce"
   ]
  },
  {
   "cell_type": "code",
   "execution_count": 2,
   "metadata": {},
   "outputs": [],
   "source": [
    "input = \"\"\"p=0,4 v=3,-3\n",
    "p=6,3 v=-1,-3\n",
    "p=10,3 v=-1,2\n",
    "p=2,0 v=2,-1\n",
    "p=0,0 v=1,3\n",
    "p=3,0 v=-2,-2\n",
    "p=7,6 v=-1,-3\n",
    "p=3,0 v=-1,-2\n",
    "p=9,3 v=2,3\n",
    "p=7,3 v=-1,2\n",
    "p=2,4 v=2,-3\n",
    "p=9,5 v=-3,-3\n",
    "\"\"\"\n",
    "foyer_size = (11, 7)"
   ]
  },
  {
   "cell_type": "code",
   "execution_count": 3,
   "metadata": {},
   "outputs": [],
   "source": [
    "input = Path(\"input.txt\").read_text()\n",
    "foyer_size = (101, 103)"
   ]
  },
  {
   "cell_type": "code",
   "execution_count": 4,
   "metadata": {},
   "outputs": [],
   "source": [
    "V2 = tuple[int,int]\n",
    "def add(a:V2, b:V2)->V2:\n",
    "    return (a[0]+b[0], a[1]+b[1])\n",
    "def scale(a:V2, s:int)->V2:\n",
    "    return (a[0]*s, a[1]*s)\n",
    "def mod(a:V2, m:V2)->V2:\n",
    "    return (a[0]%m[0], a[1]%m[1])\n",
    "def quad(a:V2, foyer:V2)->Literal[0,1,2,3,4]:\n",
    "    hx = foyer[0]//2\n",
    "    hy = foyer[1]//2\n",
    "    if a[0]==hx or a[1]==hy:\n",
    "        return 0\n",
    "    match (a[0]<hx, a[1]<hy):\n",
    "        case True, True:\n",
    "            return 1\n",
    "        case False, True:\n",
    "            return 2\n",
    "        case True, False:\n",
    "            return 3\n",
    "        case False, False:\n",
    "            return 4\n",
    "def move(bot:tuple[V2, V2], steps:int, foyer_size:V2):\n",
    "    return mod(add(bot[0], scale(bot[1], steps)), foyer_size)"
   ]
  },
  {
   "cell_type": "code",
   "execution_count": null,
   "metadata": {},
   "outputs": [],
   "source": [
    "bots:list[tuple[V2, V2]] = [\n",
    "    tuple(\n",
    "        tuple(int(a) for a in ass[2:].split(\",\"))\n",
    "        for ass in \n",
    "        item.split(\" \")\n",
    "    )\n",
    "    for item in input.strip().splitlines()\n",
    "]\n",
    "bots"
   ]
  },
  {
   "cell_type": "code",
   "execution_count": null,
   "metadata": {},
   "outputs": [],
   "source": [
    "fbots = [\n",
    "    move(bot, 100, foyer_size)\n",
    "    for bot\n",
    "    in bots\n",
    "]\n",
    "fbots"
   ]
  },
  {
   "cell_type": "code",
   "execution_count": null,
   "metadata": {},
   "outputs": [],
   "source": [
    "block = []\n",
    "for y in range(foyer_size[1]):\n",
    "    row = []\n",
    "    for x in range(foyer_size[0]):\n",
    "        count = 0\n",
    "        for fbot in fbots:\n",
    "            if fbot[0]==x and fbot[1]==y:\n",
    "                count+=1\n",
    "        char = \".\"\n",
    "        if count>0:\n",
    "            char=str(count)\n",
    "        row.append(char)\n",
    "    block.append(\"\".join(row))\n",
    "print(\"\\n\".join(block))\n"
   ]
  },
  {
   "cell_type": "code",
   "execution_count": null,
   "metadata": {},
   "outputs": [],
   "source": [
    "quads = Counter(\n",
    "    quad(fbot, foyer_size)\n",
    "    for fbot\n",
    "    in fbots\n",
    ")\n",
    "quads.pop(0)\n",
    "quads"
   ]
  },
  {
   "cell_type": "code",
   "execution_count": null,
   "metadata": {},
   "outputs": [],
   "source": [
    "reduce(lambda a,b: a*b, quads.values())"
   ]
  }
 ],
 "metadata": {
  "kernelspec": {
   "display_name": "Python 3",
   "language": "python",
   "name": "python3"
  },
  "language_info": {
   "codemirror_mode": {
    "name": "ipython",
    "version": 3
   },
   "file_extension": ".py",
   "mimetype": "text/x-python",
   "name": "python",
   "nbconvert_exporter": "python",
   "pygments_lexer": "ipython3",
   "version": "3.12.2"
  }
 },
 "nbformat": 4,
 "nbformat_minor": 2
}
