{
 "cells": [
  {
   "cell_type": "code",
   "execution_count": null,
   "metadata": {},
   "outputs": [],
   "source": [
    "from pathlib import Path"
   ]
  },
  {
   "cell_type": "code",
   "execution_count": null,
   "metadata": {},
   "outputs": [],
   "source": [
    "input = Path(\"input.txt\").read_text()\n",
    "# input = \"\"\"190: 10 19\n",
    "# 3267: 81 40 27\n",
    "# 83: 17 5\n",
    "# 156: 15 6\n",
    "# 7290: 6 8 6 15\n",
    "# 161011: 16 10 13\n",
    "# 192: 17 8 14\n",
    "# 21037: 9 7 18 13\n",
    "# 292: 11 6 16 20\n",
    "# \"\"\""
   ]
  },
  {
   "cell_type": "code",
   "execution_count": null,
   "metadata": {},
   "outputs": [],
   "source": [
    "total = 0\n",
    "for test, values  in [item.split(\": \") for item in input.strip().splitlines()]:\n",
    "    test = int(test)\n",
    "    values = list(map(int, values.split(\" \")))\n",
    "    bits = len(values)-1\n",
    "    for ops in range(0,2**bits):\n",
    "        acc = values[0]\n",
    "        for bit_index in range(bits):\n",
    "            op = (ops>>bit_index) & 1\n",
    "            if op==1:\n",
    "                acc += values[bit_index+1]\n",
    "            else:\n",
    "                acc *= values[bit_index+1]\n",
    "        if acc==test:\n",
    "                total += test\n",
    "                break\n",
    "print(total)"
   ]
  }
 ],
 "metadata": {
  "kernelspec": {
   "display_name": "Python 3",
   "language": "python",
   "name": "python3"
  },
  "language_info": {
   "codemirror_mode": {
    "name": "ipython",
    "version": 3
   },
   "file_extension": ".py",
   "mimetype": "text/x-python",
   "name": "python",
   "nbconvert_exporter": "python",
   "pygments_lexer": "ipython3",
   "version": "3.12.2"
  }
 },
 "nbformat": 4,
 "nbformat_minor": 2
}
