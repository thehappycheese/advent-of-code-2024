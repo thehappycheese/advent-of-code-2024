{
 "cells": [
  {
   "cell_type": "code",
   "execution_count": null,
   "metadata": {},
   "outputs": [],
   "source": [
    "from pathlib import Path\n",
    "import math\n",
    "from tqdm import tqdm"
   ]
  },
  {
   "cell_type": "code",
   "execution_count": null,
   "metadata": {},
   "outputs": [],
   "source": [
    "input = Path(\"input.txt\").read_text()\n",
    "# input = \"\"\"190: 10 19\n",
    "# 3267: 81 40 27\n",
    "# 83: 17 5\n",
    "# 156: 15 6\n",
    "# 7290: 6 8 6 15\n",
    "# 161011: 16 10 13\n",
    "# 192: 17 8 14\n",
    "# 21037: 9 7 18 13\n",
    "# 292: 11 6 16 20\n",
    "# \"\"\""
   ]
  },
  {
   "cell_type": "code",
   "execution_count": null,
   "metadata": {},
   "outputs": [],
   "source": [
    "def tern(num:int)->list[int]:\n",
    "    result = []\n",
    "    while True:\n",
    "        rem = num %3\n",
    "        result.append(rem)\n",
    "        quot = num//3\n",
    "        num = quot\n",
    "        if quot<3:\n",
    "            if quot>0:\n",
    "                result.append(quot)\n",
    "            break\n",
    "    return result"
   ]
  },
  {
   "cell_type": "code",
   "execution_count": null,
   "metadata": {},
   "outputs": [],
   "source": [
    "total = 0\n",
    "for test, values  in tqdm([item.split(\": \") for item in input.strip().splitlines()]):\n",
    "    test = int(test)\n",
    "    values = list(map(int, values.split(\" \")))\n",
    "    bits = len(values)-1\n",
    "    for ops in range(0,3**bits):\n",
    "        acc = values[0]\n",
    "        tern_decomp = tern(ops)\n",
    "        tern_decomp += [0]*(bits-len(tern_decomp))\n",
    "        for bit_index, op in enumerate(tern_decomp):\n",
    "            curr = values[bit_index+1]\n",
    "            if op==0:\n",
    "                num_digits = int(math.log10(curr)+1)\n",
    "                acc = acc*10**num_digits+curr\n",
    "            elif op==1:\n",
    "                acc += curr\n",
    "            else:\n",
    "                acc *= curr\n",
    "        if acc==test:\n",
    "                total += test\n",
    "                break\n",
    "print(total)"
   ]
  }
 ],
 "metadata": {
  "language_info": {
   "name": "python"
  }
 },
 "nbformat": 4,
 "nbformat_minor": 2
}
