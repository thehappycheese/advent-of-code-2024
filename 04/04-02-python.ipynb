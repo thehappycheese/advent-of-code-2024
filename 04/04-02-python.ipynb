{
 "cells": [
  {
   "cell_type": "code",
   "execution_count": null,
   "metadata": {},
   "outputs": [],
   "source": [
    "import numpy as np\n",
    "from pathlib import Path\n",
    "from itertools import product"
   ]
  },
  {
   "cell_type": "code",
   "execution_count": null,
   "metadata": {},
   "outputs": [],
   "source": [
    "def nan_propagating_equality(arr1, arr2):\n",
    "    nan_mask = np.isnan(arr1) | np.isnan(arr2)\n",
    "    equality_mask = np.equal(arr1, arr2)\n",
    "    return np.where(nan_mask, np.nan, equality_mask)\n",
    "\n",
    "def nan_propagating_sum(arr, axis):\n",
    "    sum_result = np.nansum(arr, axis=axis)\n",
    "    all_nan_mask = np.isnan(arr).all(axis=axis)\n",
    "    return np.where(all_nan_mask, np.nan, sum_result)"
   ]
  },
  {
   "cell_type": "code",
   "execution_count": null,
   "metadata": {},
   "outputs": [],
   "source": [
    "text_input = Path(\"input.txt\").read_text()\n",
    "# text_input = \"\"\"MMMSXXMASM\n",
    "# MSAMXMSMSA\n",
    "# AMXSXMAAMM\n",
    "# MSAMASMSMX\n",
    "# XMASAMXAMM\n",
    "# XXAMMXXAMA\n",
    "# SMSMSASXSS\n",
    "# SAXAMASAAA\n",
    "# MAMMMXMMMM\n",
    "# MXMXAXMASX\"\"\""
   ]
  },
  {
   "cell_type": "code",
   "execution_count": null,
   "metadata": {},
   "outputs": [],
   "source": [
    "input = np.array(list(map(list,text_input.splitlines())))"
   ]
  },
  {
   "cell_type": "code",
   "execution_count": null,
   "metadata": {},
   "outputs": [],
   "source": [
    "encoding = dict(map(reversed,enumerate(np.unique(input).tolist())))\n",
    "encode = np.vectorize(encoding.get)"
   ]
  },
  {
   "cell_type": "code",
   "execution_count": null,
   "metadata": {},
   "outputs": [],
   "source": [
    "MAS = np.array(list(\"MAS\"))\n",
    "I3 = np.identity(3, dtype=np.float32)\n",
    "I3[I3==0]=np.nan\n",
    "pat = I3*encode(MAS)"
   ]
  },
  {
   "cell_type": "code",
   "execution_count": null,
   "metadata": {},
   "outputs": [],
   "source": [
    "\n",
    "X_MAS = np.array([nan_propagating_sum([a,b], axis=0) for a,b in product(\n",
    "    [\n",
    "        pat,\n",
    "        pat[::-1,::-1]\n",
    "    ],\n",
    "    [\n",
    "        pat[::-1],\n",
    "        pat[:,::-1]\n",
    "    ]\n",
    ")])\n",
    "X_MAS"
   ]
  },
  {
   "cell_type": "code",
   "execution_count": null,
   "metadata": {},
   "outputs": [],
   "source": [
    "np.sum(\n",
    "    np.nansum(\n",
    "        nan_propagating_equality(\n",
    "            np.lib.stride_tricks.sliding_window_view(encode(input),[3,3]),\n",
    "            X_MAS.reshape(4,1,1,3,3),\n",
    "        ),\n",
    "        axis=(3,4)\n",
    "    )==5\n",
    ")"
   ]
  }
 ],
 "metadata": {
  "kernelspec": {
   "display_name": "Python 3",
   "language": "python",
   "name": "python3"
  },
  "language_info": {
   "codemirror_mode": {
    "name": "ipython",
    "version": 3
   },
   "file_extension": ".py",
   "mimetype": "text/x-python",
   "name": "python",
   "nbconvert_exporter": "python",
   "pygments_lexer": "ipython3",
   "version": "3.12.2"
  }
 },
 "nbformat": 4,
 "nbformat_minor": 2
}
